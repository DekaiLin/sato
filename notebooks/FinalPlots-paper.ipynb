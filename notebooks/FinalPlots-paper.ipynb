{
 "cells": [
  {
   "cell_type": "code",
   "execution_count": 1,
   "metadata": {},
   "outputs": [],
   "source": [
    "import altair as alt\n",
    "import pandas as pd\n",
    "import os\n",
    "from os.path import join\n",
    "alt.renderers.enable('notebook')"
   ]
  },
  {
   "cell_type": "code",
   "execution_count": null,
   "metadata": {},
   "outputs": [],
   "source": [
    "# import data\n",
    "path = './plot_data'\n",
    "out_path = './plot_out'\n",
    "if not os.path.exists(out_path):\n",
    "    os.makedirs(out_path)\n",
    "    \n",
    "df_dist = pd.read_csv(join(path,'type-dist.csv'))\n",
    "df_co_matrix = pd.read_csv(join(path,'log_co-occur.csv'))\n",
    "\n",
    "result_sherlock = pd.read_csv(join(path,'result_sherlock_multi-col.csv'))\n",
    "result_LDA = pd.read_csv(join(path,'result_LDA_multi-col.csv'))\n",
    "result_CRF = pd.read_csv(join(path,'result_CRF_multi-col.csv'))\n",
    "result_CRF_LDA = pd.read_csv(join(path,'result_CRF_LDA_multi-col.csv'))\n",
    "\n",
    "FI_sherlock = pd.read_csv(join(path,'feature_importance_single_None.csv'))\n",
    "FI_LDA = pd.read_csv(join(path,'feature_importance_single_num-directstr_thr-0_tn-400.csv'))\n",
    "FI_CRF = pd.read_csv(join(path,'feature_importance_CRF_None.csv'))\n",
    "FI_CRF_LDA = pd.read_csv(join(path,'feature_importance_CRF_num-directstr_thr-0_tn-400.csv'))\n",
    "\n",
    "naming = {\n",
    "    'SATO':'Sato',\n",
    "    'SATO_LDA':'Sato-TV', # sato with only LDA(sherlock + LDA)\n",
    "    'SATO_CRF':'Sato-ST',\n",
    "    'Base':'Base'\n",
    "}"
   ]
  },
  {
   "cell_type": "markdown",
   "metadata": {},
   "source": [
    "# Data statistics"
   ]
  },
  {
   "cell_type": "code",
   "execution_count": null,
   "metadata": {},
   "outputs": [],
   "source": [
    "alt.Chart(df_dist).mark_bar(size=8).encode(\n",
    "    x = alt.X('type:O', \n",
    "              title = 'Semantic Types',\n",
    "              sort=alt.EncodingSortField(\n",
    "                field=\"count\",  \n",
    "                order=\"descending\")),\n",
    "    y = alt.Y('count', title='Number of Samples')    \n",
    ").properties(width=800,height=200)#.save('chart.svg')"
   ]
  },
  {
   "cell_type": "code",
   "execution_count": null,
   "metadata": {},
   "outputs": [],
   "source": [
    "alt.Chart(df_co_matrix).mark_rect().encode(\n",
    "    alt.X('attr1:O'),\n",
    "    alt.Y('attr2:O'),\n",
    "    alt.Color('log_count:Q', scale=alt.Scale(scheme='greenblue'))\n",
    ").properties(width=800, height=800)#.save('co-occur-matrix.svg')"
   ]
  },
  {
   "cell_type": "markdown",
   "metadata": {},
   "source": [
    "# Per-type comparisons"
   ]
  },
  {
   "cell_type": "code",
   "execution_count": null,
   "metadata": {},
   "outputs": [],
   "source": [
    "def per_type_plot(df_A, df_B, name_A, name_B):\n",
    "    # produce plot that compare the per-type f1 of two apporaches.\n",
    "    def melt_df(df):\n",
    "        df = pd.melt(df,\n",
    "                     id_vars=['type'],\n",
    "                     value_vars=[name_A, name_B],\n",
    "                     var_name='Model', value_name='F1')\n",
    "        return df \n",
    "    \n",
    "    color_scale = alt.Scale(domain=[name_A, name_B], scheme='category10')\n",
    "    bar_size = 3\n",
    "    col_width, col_height = 6, 100\n",
    "    model_order = ['Sato', 'Sato-TV', 'Sato-ST','Base']\n",
    "    \n",
    "    df_A = df_A.rename({'f1-score':name_A}, axis='columns')\n",
    "    df_B = df_B.rename({'f1-score':name_B}, axis='columns')\n",
    "    df = pd.merge(df_A, df_B, on=['type'], suffixes=(\"_\" + name_A, \"_\" + name_B))\n",
    "\n",
    "    better = df[df[name_A] >  df[name_B]] # A better\n",
    "    worse  = df[df[name_A] <  df[name_B]] # A worse\n",
    "    equal  = df[df[name_A] == df[name_B]] # equal\n",
    "    \n",
    "    better = melt_df(better)\n",
    "    worse = melt_df(worse)\n",
    "    equal = melt_df(equal)\n",
    "    \n",
    "    chart1 = alt.Chart(better).mark_bar(size=bar_size).encode(\n",
    "            y = alt.Y(\"F1:Q\", title='F1 Score'),\n",
    "            x = alt.X('Model:O', sort=model_order, axis=None),\n",
    "            color = alt.Color('Model:N', sort=model_order, scale=color_scale)\n",
    "        ).properties(\n",
    "            width=col_width,\n",
    "            height=col_height\n",
    "        ).facet(column = alt.Column(\"type:O\", \n",
    "                                    sort=alt.EncodingSortField('F1',\n",
    "                                                               op='min', \n",
    "                                                               order='descending'),\n",
    "                                    title=None,\n",
    "                                    header=alt.Header(labelAngle=300)\n",
    "                                   )\n",
    "        )\n",
    "\n",
    "    chart2 = alt.Chart(worse).mark_bar(size=bar_size).encode(\n",
    "                    y = alt.Y(\"F1:Q\", title=None, axis=None),\n",
    "                    x = alt.X('Model:O', sort=model_order, title=None, axis=None),\n",
    "                    color = alt.Color('Model:N', sort=model_order, scale=color_scale)\n",
    "        ).properties(\n",
    "            width=col_width,\n",
    "            height=col_height\n",
    "        ).facet(column = alt.Column(\"type:O\", \n",
    "                                    sort=alt.EncodingSortField('F1',\n",
    "                                                               op='max', \n",
    "                                                               order='descending'),\n",
    "                                    title=None,\n",
    "                                    header=alt.Header(labelAngle=300)\n",
    "                                   ),\n",
    "        )\n",
    "    \n",
    "    chart3 = alt.Chart(equal).mark_bar(size=bar_size).encode(\n",
    "                    y = alt.Y(\"F1:Q\", title=None, axis=None),\n",
    "                    x = alt.X('Model:O', sort=model_order, title=None, axis=None),\n",
    "                    color = alt.Color('Model:N', sort=model_order, scale=color_scale)\n",
    "        ).properties(\n",
    "            width=col_width,\n",
    "            height=col_height\n",
    "        ).facet(column = alt.Column(\"type:O\", \n",
    "                                    sort=alt.EncodingSortField('F1',\n",
    "                                                               op='max', \n",
    "                                                               order='descending'),\n",
    "                                    title=None,\n",
    "                                    header=alt.Header(labelAngle=300)\n",
    "                                   ),\n",
    "        )\n",
    "\n",
    "    \n",
    "    \n",
    "    return alt.hconcat(chart1, chart3, chart2, spacing=0).configure_facet(spacing=0.8)"
   ]
  },
  {
   "cell_type": "code",
   "execution_count": null,
   "metadata": {},
   "outputs": [],
   "source": [
    "# per-type w/ w/o LDA\n",
    "f1 = per_type_plot(result_CRF_LDA, result_CRF , naming['SATO'], naming['SATO_CRF'])  # LDA\n",
    "f2 = per_type_plot(result_LDA, result_sherlock , naming['SATO_LDA'], naming['Base']) # LDA\n",
    "# per-type w/ w/o CRF\n",
    "f3 = per_type_plot(result_CRF_LDA, result_LDA , naming['SATO'], naming['SATO_LDA'])    # CRF\n",
    "f4 = per_type_plot(result_CRF, result_sherlock , naming['SATO_CRF'], naming['Base'])   # CRF"
   ]
  },
  {
   "cell_type": "code",
   "execution_count": null,
   "metadata": {},
   "outputs": [],
   "source": [
    "f1"
   ]
  },
  {
   "cell_type": "code",
   "execution_count": null,
   "metadata": {},
   "outputs": [],
   "source": [
    "f2"
   ]
  },
  {
   "cell_type": "code",
   "execution_count": null,
   "metadata": {},
   "outputs": [],
   "source": [
    "f3"
   ]
  },
  {
   "cell_type": "code",
   "execution_count": null,
   "metadata": {},
   "outputs": [],
   "source": [
    "f4"
   ]
  },
  {
   "cell_type": "markdown",
   "metadata": {},
   "source": [
    "# Feature importance"
   ]
  },
  {
   "cell_type": "code",
   "execution_count": null,
   "metadata": {},
   "outputs": [],
   "source": [
    "col_width = 40\n",
    "col_height = 130\n",
    "\n",
    "chart1 = alt.Chart(FI_sherlock).mark_bar().encode(\n",
    "        x = alt.X('Metric', title = None, axis = None),\n",
    "        y = alt.Y('Score', title = 'Importance score' ),\n",
    "        color = alt.Color('Metric'),\n",
    ").properties(\n",
    "            width=col_width,\n",
    "            height=col_height\n",
    "        ).facet(column = alt.Column(\"Feature_group\",\n",
    "                sort=['topic', 'word', 'char', 'par', 'rest'],\n",
    "                title=naming['Base'])\n",
    "       ) \n",
    "chart2 = alt.Chart(FI_LDA).mark_bar().encode(\n",
    "        x = alt.X('Metric', title = None, axis = None),\n",
    "        y = alt.Y('Score', title = None),\n",
    "        color = alt.Color('Metric'),\n",
    ").properties(\n",
    "            width=col_width,\n",
    "            height=col_height\n",
    "        ).facet(column = alt.Column(\"Feature_group\",\n",
    "                sort=['topic', 'word', 'char', 'par', 'rest'],\n",
    "                title=naming['SATO_LDA'])\n",
    "       )  \n",
    "chart3 = alt.Chart(FI_CRF).mark_bar().encode(\n",
    "        x = alt.X('Metric', title = None, axis = None),\n",
    "        y = alt.Y('Score', title = 'Importance score' ),\n",
    "        color = alt.Color('Metric'),\n",
    ").properties(\n",
    "            width=col_width,\n",
    "            height=col_height\n",
    "        ).facet(column = alt.Column(\"Feature_group\",\n",
    "                sort=['topic', 'word', 'char', 'par', 'rest'],\n",
    "                title=naming['SATO_CRF'])\n",
    "       ) \n",
    "chart4 = alt.Chart(FI_CRF_LDA).mark_bar().encode(\n",
    "        x = alt.X('Metric', title = None, axis = None),\n",
    "        y = alt.Y('Score', title = None ),\n",
    "        color = alt.Color('Metric'),\n",
    ").properties(\n",
    "            width=col_width,\n",
    "            height=col_height\n",
    "        ).facet(column = alt.Column(\"Feature_group\",\n",
    "                sort=['topic', 'word', 'char', 'par', 'rest'],\n",
    "                title=naming['SATO'])\n",
    "       ) \n",
    "alt.vconcat( alt.hconcat(chart1, chart2),alt.hconcat(chart3, chart4)).configure_facet(spacing=0.8).configure_legend(title=None)"
   ]
  },
  {
   "cell_type": "code",
   "execution_count": null,
   "metadata": {},
   "outputs": [],
   "source": []
  },
  {
   "cell_type": "code",
   "execution_count": null,
   "metadata": {},
   "outputs": [],
   "source": []
  }
 ],
 "metadata": {
  "kernelspec": {
   "display_name": "col2type",
   "language": "python",
   "name": "col2type"
  },
  "language_info": {
   "codemirror_mode": {
    "name": "ipython",
    "version": 3
   },
   "file_extension": ".py",
   "mimetype": "text/x-python",
   "name": "python",
   "nbconvert_exporter": "python",
   "pygments_lexer": "ipython3",
   "version": "3.7.4"
  }
 },
 "nbformat": 4,
 "nbformat_minor": 2
}
